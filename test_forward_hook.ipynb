{
 "cells": [
  {
   "cell_type": "code",
   "execution_count": 1,
   "metadata": {},
   "outputs": [
    {
     "name": "stderr",
     "output_type": "stream",
     "text": [
      "/opt/conda/lib/python3.10/site-packages/asteroid/filterbanks/__init__.py:24: VisibleDeprecationWarning: asteroid.filterbanks has been replaced by `asteroid_filterbanks` and will be totally remove in a future release. Please use `asteroid_filterbanks` instead.\n",
      "  warnings.warn(\n"
     ]
    }
   ],
   "source": [
    "import DCCRN\n",
    "import torch\n",
    "from asteroid.data import DNSDataset\n",
    "import os\n",
    "import time\n",
    "import torch\n",
    "import shutil\n",
    "import numpy as np\n",
    "\n",
    "import asteroid\n",
    "import torch\n",
    "import numpy as np\n",
    "from torch.utils.data import Dataset, DataLoader\n",
    "import config as cfg\n",
    "from tools_for_model import near_avg_index, max_index, min_index, Bar, cal_pesq, cal_stoi\n",
    "\n",
    "import inspect\n"
   ]
  },
  {
   "cell_type": "code",
   "execution_count": 2,
   "metadata": {},
   "outputs": [],
   "source": [
    "model = DCCRN.DCCRN()\n",
    "data_set =  DNSDataset(\"/root/NTH_student/asteroid/egs/dns_challenge/baseline/data\")"
   ]
  },
  {
   "cell_type": "code",
   "execution_count": 3,
   "metadata": {},
   "outputs": [],
   "source": [
    "# tạo sample để input mode. cái này random đại thui\n",
    "input_size = model.stft.weight.size(1)\n",
    "# tạo cái batch có n= 5 đi\n",
    "input = torch.randn(5, input_size)"
   ]
  },
  {
   "cell_type": "code",
   "execution_count": 4,
   "metadata": {},
   "outputs": [
    {
     "data": {
      "text/plain": [
       "<torch.utils.hooks.RemovableHandle at 0x7f15309851e0>"
      ]
     },
     "execution_count": 4,
     "metadata": {},
     "output_type": "execute_result"
    }
   ],
   "source": [
    "# Tạo list chứa các feature map do encoder output ra \n",
    "# dùng list vì lát nữa feature map của lstm với decoder bỏ vô đây luôn. ở đây demo cái encoder thui nha. \n",
    "feature_maps = []\n",
    "# Tạo hàm hook, hàm này sẽ thực thi khi encoder thực hiện forward.\n",
    "# output của encoder sẽ được append vào trong encoder_feature_map(một biến toàn cục)\n",
    "def encoder_hook(module, input, output):\n",
    "    feature_maps.append(output)\n",
    "# đăng kí forward hook. kiểu \"ê khi nào encoder thực hiện foward xong thì chạy hàm encoder_hook nha\"\n",
    "model.encoder[-1].register_forward_hook(encoder_hook)"
   ]
  },
  {
   "cell_type": "code",
   "execution_count": 5,
   "metadata": {},
   "outputs": [
    {
     "name": "stdout",
     "output_type": "stream",
     "text": [
      "au de\n"
     ]
    },
    {
     "name": "stderr",
     "output_type": "stream",
     "text": [
      "/root/NTH_student/knowledge_distillation_CLSKD/tools_for_model.py:472: UserWarning: This overload of addcmul is deprecated:\n",
      "\taddcmul(Tensor input, Number value, Tensor tensor1, Tensor tensor2, *, Tensor out)\n",
      "Consider using one of the following signatures instead:\n",
      "\taddcmul(Tensor input, Tensor tensor1, Tensor tensor2, *, Number value, Tensor out) (Triggered internally at  ../torch/csrc/utils/python_arg_parser.cpp:1174.)\n",
      "  delta = torch.addcmul(Vrr * Vii, -1, Vri, Vri)\n"
     ]
    }
   ],
   "source": [
    "try :\n",
    "    model(input)\n",
    "    print('au de')\n",
    "except:\n",
    "    print('failed roihuhu')"
   ]
  },
  {
   "cell_type": "code",
   "execution_count": 6,
   "metadata": {},
   "outputs": [
    {
     "name": "stdout",
     "output_type": "stream",
     "text": [
      "1\n"
     ]
    }
   ],
   "source": [
    "print(len(feature_maps))"
   ]
  },
  {
   "cell_type": "code",
   "execution_count": 7,
   "metadata": {},
   "outputs": [
    {
     "data": {
      "text/plain": [
       "torch.Size([5, 256, 4, 3])"
      ]
     },
     "execution_count": 7,
     "metadata": {},
     "output_type": "execute_result"
    }
   ],
   "source": [
    "feature_maps[0].shape"
   ]
  },
  {
   "cell_type": "code",
   "execution_count": 8,
   "metadata": {},
   "outputs": [
    {
     "data": {
      "text/plain": [
       "[tensor([[[[-1.2585e-01,  2.6200e-02,  1.1350e+00],\n",
       "           [-9.3977e-02,  2.6328e-01,  4.7110e-01],\n",
       "           [ 8.6911e-02,  6.8840e-02,  1.3020e+00],\n",
       "           [-3.6539e-02,  4.4229e-01, -1.5921e-01]],\n",
       " \n",
       "          [[-4.7572e-02,  3.0941e-01,  1.8745e-01],\n",
       "           [ 5.3147e-02,  1.0413e+00,  1.0343e+00],\n",
       "           [ 9.5400e-02,  3.8757e-01,  5.0434e-01],\n",
       "           [ 6.9664e-02,  1.0060e+00,  1.1015e+00]],\n",
       " \n",
       "          [[-6.9156e-02,  4.0085e-02, -1.9666e-01],\n",
       "           [ 6.8443e-01,  4.3281e-01,  6.8128e-01],\n",
       "           [-5.3679e-02,  1.1325e+00, -4.7670e-01],\n",
       "           [ 2.6338e-01,  4.2350e-01,  1.8954e-01]],\n",
       " \n",
       "          ...,\n",
       " \n",
       "          [[-2.0606e-01, -1.6712e-01, -2.4150e-01],\n",
       "           [-1.6242e-01,  1.1270e-01, -6.2741e-02],\n",
       "           [-1.0988e-01, -8.9376e-02, -2.0386e-01],\n",
       "           [-1.4564e-01, -1.0669e-01, -6.4342e-02]],\n",
       " \n",
       "          [[ 4.3390e-01, -2.4586e-01,  1.3781e-01],\n",
       "           [ 7.6600e-01, -3.3203e-01, -1.5774e-01],\n",
       "           [ 7.4555e-01, -3.1676e-01,  6.5096e-01],\n",
       "           [ 6.3047e-01, -3.1922e-02,  3.4829e-01]],\n",
       " \n",
       "          [[ 1.2459e+00,  5.4407e-01,  1.6521e+00],\n",
       "           [ 5.2756e-01,  6.2597e-01, -3.6686e-02],\n",
       "           [ 6.4182e-01, -4.2814e-03,  9.7377e-01],\n",
       "           [ 8.9642e-01,  3.8014e-01, -3.7587e-02]]],\n",
       " \n",
       " \n",
       "         [[[-1.2355e-01,  7.9203e-02,  1.1218e+00],\n",
       "           [-1.0096e-01,  2.6574e-01,  4.8724e-01],\n",
       "           [ 1.1999e-01,  1.3873e-01,  1.2781e+00],\n",
       "           [-4.2063e-02,  4.3476e-01, -1.6802e-01]],\n",
       " \n",
       "          [[-4.9751e-02,  2.8004e-01,  1.5840e-01],\n",
       "           [ 4.8401e-02,  1.0453e+00,  1.0513e+00],\n",
       "           [ 9.3106e-02,  3.8825e-01,  4.9770e-01],\n",
       "           [ 6.1518e-02,  1.0219e+00,  1.1668e+00]],\n",
       " \n",
       "          [[-7.2864e-02,  5.3436e-02, -2.0542e-01],\n",
       "           [ 6.7645e-01,  4.2412e-01,  7.0167e-01],\n",
       "           [-5.9989e-02,  1.1474e+00, -4.8473e-01],\n",
       "           [ 2.7072e-01,  4.2280e-01,  1.7850e-01]],\n",
       " \n",
       "          ...,\n",
       " \n",
       "          [[-2.0613e-01, -1.6343e-01, -2.4762e-01],\n",
       "           [-1.6227e-01,  1.2114e-01, -6.6285e-02],\n",
       "           [-1.0793e-01, -9.1481e-02, -2.0856e-01],\n",
       "           [-1.4663e-01, -1.0403e-01, -7.2480e-02]],\n",
       " \n",
       "          [[ 4.2152e-01, -2.4729e-01,  1.4334e-01],\n",
       "           [ 7.4323e-01, -3.2947e-01, -1.6669e-01],\n",
       "           [ 7.3631e-01, -3.3638e-01,  6.1177e-01],\n",
       "           [ 6.0364e-01, -2.9592e-02,  3.1365e-01]],\n",
       " \n",
       "          [[ 1.2629e+00,  5.4207e-01,  1.5776e+00],\n",
       "           [ 5.1927e-01,  6.4213e-01, -3.2335e-02],\n",
       "           [ 6.5990e-01, -4.7706e-03,  8.8400e-01],\n",
       "           [ 8.8886e-01,  3.8707e-01, -4.0134e-02]]],\n",
       " \n",
       " \n",
       "         [[[-3.2977e-01, -1.3671e-01,  1.2298e+00],\n",
       "           [ 3.2160e-01, -1.6866e-01,  5.4065e-02],\n",
       "           [-2.3229e-01,  8.6223e-01,  6.7156e-01],\n",
       "           [ 4.3432e-01,  5.3143e-01, -2.1220e-02]],\n",
       " \n",
       "          [[-5.6902e-03,  6.0188e-01, -1.4858e-01],\n",
       "           [ 1.4501e-02,  6.9694e-01, -3.2966e-01],\n",
       "           [ 7.3795e-02,  1.3623e+00, -7.9372e-02],\n",
       "           [ 3.0087e-01,  4.3133e-01, -1.5310e-01]],\n",
       " \n",
       "          [[ 5.1357e-02, -1.5243e-01,  1.5636e-01],\n",
       "           [ 2.7415e-02, -4.1701e-02, -2.8650e-01],\n",
       "           [ 5.9738e-01, -5.1962e-02, -7.8633e-02],\n",
       "           [-1.4857e-01,  7.9369e-02, -6.8620e-02]],\n",
       " \n",
       "          ...,\n",
       " \n",
       "          [[-1.7651e-01,  1.1519e-01,  5.2071e-01],\n",
       "           [-1.9401e-01, -2.5529e-01,  1.2872e+00],\n",
       "           [-1.2509e-01,  4.3099e-02,  1.0385e+00],\n",
       "           [-9.3557e-02, -3.0815e-01,  1.0297e+00]],\n",
       " \n",
       "          [[ 4.7510e-01, -3.2378e-01, -6.6051e-02],\n",
       "           [ 6.8935e-01, -4.3523e-02,  7.8216e-01],\n",
       "           [ 6.0288e-01, -4.2535e-01, -5.7477e-01],\n",
       "           [ 6.2251e-01,  5.2664e-01,  9.0685e-02]],\n",
       " \n",
       "          [[ 1.0307e+00,  2.6250e-01,  7.2104e-01],\n",
       "           [ 8.5017e-01, -7.4885e-02, -1.9078e-02],\n",
       "           [ 5.3601e-01, -1.7746e-01, -3.2855e-01],\n",
       "           [ 1.0020e+00, -5.6496e-03,  6.6817e-01]]],\n",
       " \n",
       " \n",
       "         [[[-4.9340e-01,  9.7468e-01,  1.4196e+00],\n",
       "           [ 7.5386e-01,  1.7200e+00, -6.8038e-01],\n",
       "           [-1.9395e-01,  2.3666e+00, -1.6778e+00],\n",
       "           [ 8.0308e-01,  1.5554e+00, -4.8933e-01]],\n",
       " \n",
       "          [[ 1.4137e-01,  7.7010e-01, -6.4179e-01],\n",
       "           [-8.4487e-02,  3.3841e-01, -1.2231e+00],\n",
       "           [ 2.9916e-01,  1.6358e+00, -7.2745e-01],\n",
       "           [ 5.0344e-01,  1.6393e-01, -4.5125e-01]],\n",
       " \n",
       "          [[-8.7390e-02, -2.3241e-01,  1.8133e+00],\n",
       "           [-2.9193e-01,  3.5240e-02, -4.1077e-01],\n",
       "           [ 8.3205e-01,  1.6177e+00,  3.9712e+00],\n",
       "           [-3.9250e-01, -1.2682e-01,  7.1599e-01]],\n",
       " \n",
       "          ...,\n",
       " \n",
       "          [[-9.8836e-02,  5.8269e-01,  3.9292e+00],\n",
       "           [ 1.4927e-01, -1.9123e-01,  5.3543e+00],\n",
       "           [-2.4312e-01,  3.9416e-02,  1.1940e+00],\n",
       "           [ 2.4434e-01, -3.0405e-01,  1.3527e+00]],\n",
       " \n",
       "          [[ 5.1374e-02, -1.5726e-01, -7.9135e-03],\n",
       "           [-4.5221e-02,  2.0896e+00, -1.9770e-01],\n",
       "           [-1.3917e-01,  8.0103e-01, -9.1795e-01],\n",
       "           [-7.7016e-02,  2.9820e+00,  2.7531e+00]],\n",
       " \n",
       "          [[ 5.6551e-01, -1.6430e-01, -4.7444e-01],\n",
       "           [ 7.1741e-01, -3.7445e-01, -4.2367e-01],\n",
       "           [-1.5572e-01, -1.7904e-01, -1.1678e+00],\n",
       "           [ 8.4950e-01, -3.7263e-02, -2.9507e-01]]],\n",
       " \n",
       " \n",
       "         [[[-4.0706e-01, -5.3573e-02,  2.0121e+00],\n",
       "           [ 2.9584e-01,  9.1362e-01, -2.5087e-01],\n",
       "           [-2.4206e-01,  1.0046e+00, -5.0825e-01],\n",
       "           [ 5.1906e-01,  1.3960e+00, -1.5469e-01]],\n",
       " \n",
       "          [[-7.8424e-04,  7.5788e-01, -3.7186e-01],\n",
       "           [-3.1110e-02,  6.7572e-01, -7.6298e-01],\n",
       "           [ 1.8728e-01,  1.5550e+00, -3.7632e-01],\n",
       "           [ 4.7254e-01,  3.2446e-01, -2.4251e-01]],\n",
       " \n",
       "          [[-5.9870e-02, -2.4258e-01,  6.4544e-01],\n",
       "           [-1.9778e-01,  7.5591e-02, -5.2941e-01],\n",
       "           [ 5.2185e-01,  3.0026e-01,  2.0357e+00],\n",
       "           [-2.7918e-01,  6.9304e-02, -1.8794e-02]],\n",
       " \n",
       "          ...,\n",
       " \n",
       "          [[-1.3013e-01,  3.5850e-01,  1.9702e+00],\n",
       "           [-8.2058e-02, -3.1499e-01,  3.3671e+00],\n",
       "           [-1.4038e-01,  1.0121e-01,  7.1392e-01],\n",
       "           [-2.2407e-04, -3.4846e-01,  9.4524e-01]],\n",
       " \n",
       "          [[ 2.3772e-01, -2.0017e-01,  4.4336e-01],\n",
       "           [ 1.7895e-01,  1.5380e+00, -1.5977e-02],\n",
       "           [-1.2320e-02, -1.7753e-01, -7.6831e-01],\n",
       "           [-1.0791e-04,  1.8031e+00,  1.4214e+00]],\n",
       " \n",
       "          [[ 8.2580e-01, -5.8022e-02, -2.3399e-01],\n",
       "           [ 8.7355e-01, -2.6276e-01, -3.0119e-01],\n",
       "           [-1.1602e-03, -2.7113e-01, -9.2468e-01],\n",
       "           [ 9.2791e-01,  3.3069e-02, -9.2673e-02]]]], grad_fn=<PreluBackward0>)]"
      ]
     },
     "execution_count": 8,
     "metadata": {},
     "output_type": "execute_result"
    }
   ],
   "source": [
    "feature_maps"
   ]
  },
  {
   "cell_type": "code",
   "execution_count": 44,
   "metadata": {},
   "outputs": [],
   "source": [
    "feature_maps.clear()"
   ]
  }
 ],
 "metadata": {
  "kernelspec": {
   "display_name": "base",
   "language": "python",
   "name": "python3"
  },
  "language_info": {
   "codemirror_mode": {
    "name": "ipython",
    "version": 3
   },
   "file_extension": ".py",
   "mimetype": "text/x-python",
   "name": "python",
   "nbconvert_exporter": "python",
   "pygments_lexer": "ipython3",
   "version": "3.10.8"
  },
  "orig_nbformat": 4,
  "vscode": {
   "interpreter": {
    "hash": "d4d1e4263499bec80672ea0156c357c1ee493ec2b1c70f0acce89fc37c4a6abe"
   }
  }
 },
 "nbformat": 4,
 "nbformat_minor": 2
}
