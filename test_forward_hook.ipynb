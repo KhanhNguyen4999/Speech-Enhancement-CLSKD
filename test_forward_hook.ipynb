{
 "cells": [
  {
   "cell_type": "code",
   "execution_count": 111,
   "metadata": {},
   "outputs": [],
   "source": [
    "import DCCRN\n",
    "import torch\n",
    "from asteroid.data import DNSDataset\n",
    "import os\n",
    "import time\n",
    "import torch\n",
    "import shutil\n",
    "import numpy as np\n",
    "\n",
    "import asteroid\n",
    "import torch\n",
    "import numpy as np\n",
    "from torch.utils.data import Dataset, DataLoader\n",
    "import config as cfg\n",
    "from tools_for_model import near_avg_index, max_index, min_index, Bar, cal_pesq, cal_stoi\n",
    "\n",
    "import inspect\n"
   ]
  },
  {
   "cell_type": "code",
   "execution_count": 112,
   "metadata": {},
   "outputs": [],
   "source": [
    "model = DCCRN.DCCRN()\n",
    "#data_set =  DNSDataset(\"/root/NTH_student/Speech_Enhancement_new/asteroid/egs/dns_challenge/baseline/data\")"
   ]
  },
  {
   "cell_type": "code",
   "execution_count": 113,
   "metadata": {},
   "outputs": [],
   "source": [
    "# tạo sample để input mode. cái này random đại thui\n",
    "input_size = model.stft.weight.size(1)\n",
    "# tạo cái batch có n= 5 đi\n",
    "input = torch.randn(8, input_size)"
   ]
  },
  {
   "cell_type": "code",
   "execution_count": 114,
   "metadata": {},
   "outputs": [
    {
     "data": {
      "text/plain": [
       "1"
      ]
     },
     "execution_count": 114,
     "metadata": {},
     "output_type": "execute_result"
    }
   ],
   "source": [
    "input_size"
   ]
  },
  {
   "cell_type": "code",
   "execution_count": 115,
   "metadata": {},
   "outputs": [
    {
     "data": {
      "text/plain": [
       "<torch.utils.hooks.RemovableHandle at 0x7f60cbe1eb00>"
      ]
     },
     "execution_count": 115,
     "metadata": {},
     "output_type": "execute_result"
    }
   ],
   "source": [
    "# Tạo list chứa các feature map do encoder output ra \n",
    "# dùng list vì lát nữa feature map của lstm với decoder bỏ vô đây luôn. ở đây demo cái encoder thui nha. \n",
    "feature_maps = []\n",
    "# Tạo hàm hook, hàm này sẽ thực thi khi encoder thực hiện forward.\n",
    "# output của encoder sẽ được append vào trong encoder_feature_map(một biến toàn cục)\n",
    "def encoder_hook(module, input, output):\n",
    "    feature_maps.append(output)\n",
    "# đăng kí forward hook. kiểu \"ê khi nào encoder thực hiện foward xong thì chạy hàm encoder_hook nha\"\n",
    "model.encoder[-2].register_forward_hook(encoder_hook)"
   ]
  },
  {
   "cell_type": "code",
   "execution_count": 116,
   "metadata": {},
   "outputs": [
    {
     "data": {
      "text/plain": [
       "<torch.utils.hooks.RemovableHandle at 0x7f60cbe1e9e0>"
      ]
     },
     "execution_count": 116,
     "metadata": {},
     "output_type": "execute_result"
    }
   ],
   "source": [
    "def decoder_hook(module, input, output):\n",
    "    feature_maps.append(output)\n",
    "\n",
    "model.decoder[-2].register_forward_hook(decoder_hook)"
   ]
  },
  {
   "cell_type": "code",
   "execution_count": 117,
   "metadata": {},
   "outputs": [
    {
     "data": {
      "text/plain": [
       "<torch.utils.hooks.RemovableHandle at 0x7f60e104bbb0>"
      ]
     },
     "execution_count": 117,
     "metadata": {},
     "output_type": "execute_result"
    }
   ],
   "source": [
    "def enhance_hook(module, input, output):\n",
    "    feature_maps.append(output)\n",
    "\n",
    "model.enhance.register_forward_hook(enhance_hook)"
   ]
  },
  {
   "cell_type": "code",
   "execution_count": 120,
   "metadata": {},
   "outputs": [
    {
     "ename": "AttributeError",
     "evalue": "'DCCRN' object has no attribute 'out_wav'",
     "output_type": "error",
     "traceback": [
      "\u001b[0;31m---------------------------------------------------------------------------\u001b[0m",
      "\u001b[0;31mAttributeError\u001b[0m                            Traceback (most recent call last)",
      "Cell \u001b[0;32mIn[120], line 4\u001b[0m\n\u001b[1;32m      1\u001b[0m \u001b[39mdef\u001b[39;00m \u001b[39mout_wav\u001b[39m(module, \u001b[39minput\u001b[39m, output):\n\u001b[1;32m      2\u001b[0m     feature_maps\u001b[39m.\u001b[39mappend(output)\n\u001b[0;32m----> 4\u001b[0m model\u001b[39m.\u001b[39;49mout_wav\u001b[39m.\u001b[39mregister_forward_hook(out_wav)\n",
      "File \u001b[0;32m/opt/conda/lib/python3.10/site-packages/torch/nn/modules/module.py:1207\u001b[0m, in \u001b[0;36mModule.__getattr__\u001b[0;34m(self, name)\u001b[0m\n\u001b[1;32m   1205\u001b[0m     \u001b[39mif\u001b[39;00m name \u001b[39min\u001b[39;00m modules:\n\u001b[1;32m   1206\u001b[0m         \u001b[39mreturn\u001b[39;00m modules[name]\n\u001b[0;32m-> 1207\u001b[0m \u001b[39mraise\u001b[39;00m \u001b[39mAttributeError\u001b[39;00m(\u001b[39m\"\u001b[39m\u001b[39m'\u001b[39m\u001b[39m{}\u001b[39;00m\u001b[39m'\u001b[39m\u001b[39m object has no attribute \u001b[39m\u001b[39m'\u001b[39m\u001b[39m{}\u001b[39;00m\u001b[39m'\u001b[39m\u001b[39m\"\u001b[39m\u001b[39m.\u001b[39mformat(\n\u001b[1;32m   1208\u001b[0m     \u001b[39mtype\u001b[39m(\u001b[39mself\u001b[39m)\u001b[39m.\u001b[39m\u001b[39m__name__\u001b[39m, name))\n",
      "\u001b[0;31mAttributeError\u001b[0m: 'DCCRN' object has no attribute 'out_wav'"
     ]
    }
   ],
   "source": [
    "def out_wav(module, input, output):\n",
    "    feature_maps.append(output)\n",
    "\n",
    "model.out_wav.register_forward_hook(out_wav)"
   ]
  },
  {
   "cell_type": "code",
   "execution_count": null,
   "metadata": {},
   "outputs": [
    {
     "name": "stdout",
     "output_type": "stream",
     "text": [
      "au de\n"
     ]
    }
   ],
   "source": [
    "try :\n",
    "    model(input)\n",
    "    print('au de')\n",
    "except:\n",
    "    print('failed roihuhu')"
   ]
  },
  {
   "cell_type": "code",
   "execution_count": null,
   "metadata": {},
   "outputs": [
    {
     "name": "stdout",
     "output_type": "stream",
     "text": [
      "3\n"
     ]
    }
   ],
   "source": [
    "print(len(feature_maps))"
   ]
  },
  {
   "cell_type": "code",
   "execution_count": null,
   "metadata": {},
   "outputs": [
    {
     "data": {
      "text/plain": [
       "torch.Size([8, 256, 8, 3])"
      ]
     },
     "execution_count": 105,
     "metadata": {},
     "output_type": "execute_result"
    }
   ],
   "source": [
    "feature_maps[0].shape"
   ]
  },
  {
   "cell_type": "code",
   "execution_count": null,
   "metadata": {},
   "outputs": [
    {
     "data": {
      "text/plain": [
       "tensor([[[ 0.0210,  0.0011, -0.0130,  ..., -0.0104,  0.0026, -0.0181],\n",
       "         [ 0.0185,  0.0034, -0.0134,  ..., -0.0067, -0.0068, -0.0174],\n",
       "         [ 0.0118,  0.0084, -0.0180,  ..., -0.0016, -0.0131, -0.0063],\n",
       "         ...,\n",
       "         [ 0.0096,  0.0090, -0.0129,  ..., -0.0072, -0.0112,  0.0024],\n",
       "         [ 0.0257, -0.0032, -0.0075,  ..., -0.0106,  0.0078, -0.0156],\n",
       "         [ 0.0164,  0.0030, -0.0142,  ..., -0.0053, -0.0102, -0.0133]],\n",
       "\n",
       "        [[ 0.0356, -0.0248, -0.0400,  ...,  0.0074,  0.0056, -0.0162],\n",
       "         [ 0.0252, -0.0039, -0.0445,  ..., -0.0091, -0.0129, -0.0178],\n",
       "         [ 0.0006,  0.0093, -0.0368,  ..., -0.0084, -0.0251, -0.0180],\n",
       "         ...,\n",
       "         [-0.0109,  0.0137, -0.0467,  ..., -0.0061, -0.0117,  0.0028],\n",
       "         [ 0.0454, -0.0272, -0.0232,  ...,  0.0190,  0.0057, -0.0033],\n",
       "         [ 0.0246, -0.0021, -0.0432,  ..., -0.0124, -0.0261, -0.0261]],\n",
       "\n",
       "        [[ 0.0154, -0.0318, -0.1036,  ..., -0.0129,  0.0323, -0.0376],\n",
       "         [ 0.0293, -0.0277, -0.0863,  ..., -0.0210, -0.0092, -0.0128],\n",
       "         [ 0.0138, -0.0007, -0.0292,  ..., -0.0103, -0.0094, -0.0139],\n",
       "         ...,\n",
       "         [-0.0031,  0.0201, -0.0226,  ...,  0.0086, -0.0001,  0.0294],\n",
       "         [-0.0081, -0.0135, -0.0927,  ..., -0.0135,  0.0521, -0.0347],\n",
       "         [ 0.0297, -0.0132, -0.0793,  ..., -0.0239, -0.0322, -0.0189]]],\n",
       "       grad_fn=<StackBackward0>)"
      ]
     },
     "execution_count": 106,
     "metadata": {},
     "output_type": "execute_result"
    }
   ],
   "source": [
    "feature_maps[1][0]"
   ]
  },
  {
   "cell_type": "code",
   "execution_count": null,
   "metadata": {},
   "outputs": [
    {
     "data": {
      "text/plain": [
       "(tensor([[[ 1.0186e-01, -1.3451e-01,  4.6279e-02,  ..., -1.2498e-02,\n",
       "            1.0699e-01, -2.2515e-01],\n",
       "          [ 2.1652e-01, -1.4936e-01,  9.5088e-02,  ...,  6.2211e-02,\n",
       "            2.1998e-01, -1.2541e-01],\n",
       "          [ 3.8444e-02, -4.8844e-02, -1.7234e-01,  ...,  1.5596e-01,\n",
       "            1.4748e-01, -6.5511e-02],\n",
       "          ...,\n",
       "          [ 6.6792e-03,  1.7209e-01,  2.0051e-01,  ...,  1.7541e-01,\n",
       "            1.8299e-02, -1.8692e-01],\n",
       "          [ 4.4413e-02, -2.0412e-01,  7.8305e-03,  ..., -7.5992e-02,\n",
       "            3.8010e-02, -4.0508e-01],\n",
       "          [ 1.6764e-01, -1.9624e-01,  7.6082e-02,  ...,  9.9756e-02,\n",
       "            2.2322e-01, -1.1944e-01]],\n",
       " \n",
       "         [[ 1.5362e-02, -3.1764e-02, -1.0362e-01,  ..., -1.2880e-02,\n",
       "            3.2304e-02, -3.7595e-02],\n",
       "          [ 2.9338e-02, -2.7713e-02, -8.6324e-02,  ..., -2.1035e-02,\n",
       "           -9.2408e-03, -1.2835e-02],\n",
       "          [ 1.3758e-02, -7.1822e-04, -2.9166e-02,  ..., -1.0332e-02,\n",
       "           -9.3646e-03, -1.3909e-02],\n",
       "          ...,\n",
       "          [-3.1471e-03,  2.0092e-02, -2.2649e-02,  ...,  8.5839e-03,\n",
       "           -1.4511e-04,  2.9362e-02],\n",
       "          [-8.1080e-03, -1.3509e-02, -9.2746e-02,  ..., -1.3515e-02,\n",
       "            5.2080e-02, -3.4680e-02],\n",
       "          [ 2.9694e-02, -1.3162e-02, -7.9335e-02,  ..., -2.3928e-02,\n",
       "           -3.2235e-02, -1.8862e-02]]], grad_fn=<StackBackward0>),\n",
       " tensor([[[ 2.7457e-01, -3.4281e-01,  1.7775e-01,  ..., -3.1144e-02,\n",
       "            5.1808e-01, -3.9809e-01],\n",
       "          [ 3.9247e-01, -3.6083e-01,  2.3103e-01,  ...,  1.5391e-01,\n",
       "            6.0141e-01, -2.9102e-01],\n",
       "          [ 1.1097e-01, -7.0168e-02, -1.9660e-01,  ...,  3.6095e-01,\n",
       "            1.8125e-01, -4.4541e-01],\n",
       "          ...,\n",
       "          [ 2.7140e-02,  2.6328e-01,  2.4611e-01,  ...,  3.9572e-01,\n",
       "            2.2404e-02, -9.4423e-01],\n",
       "          [ 1.3859e-01, -4.8460e-01,  7.0229e-02,  ..., -2.5045e-01,\n",
       "            3.5439e-01, -5.6253e-01],\n",
       "          [ 2.8111e-01, -4.2253e-01,  1.6210e-01,  ...,  2.2189e-01,\n",
       "            6.4301e-01, -2.7711e-01]],\n",
       " \n",
       "         [[ 3.0854e-02, -5.9173e-02, -2.0037e-01,  ..., -2.7604e-02,\n",
       "            6.0367e-02, -6.8513e-02],\n",
       "          [ 5.7136e-02, -5.0159e-02, -1.6786e-01,  ..., -4.7016e-02,\n",
       "           -1.7531e-02, -2.3026e-02],\n",
       "          [ 2.7454e-02, -1.3570e-03, -5.3594e-02,  ..., -2.2820e-02,\n",
       "           -1.8255e-02, -2.8315e-02],\n",
       "          ...,\n",
       "          [-6.7180e-03,  3.9645e-02, -4.3856e-02,  ...,  1.9335e-02,\n",
       "           -3.0052e-04,  6.2633e-02],\n",
       "          [-1.5903e-02, -2.4933e-02, -1.7646e-01,  ..., -2.8732e-02,\n",
       "            9.4149e-02, -6.6372e-02],\n",
       "          [ 5.6955e-02, -2.4115e-02, -1.5136e-01,  ..., -5.4353e-02,\n",
       "           -6.2102e-02, -3.3534e-02]]], grad_fn=<StackBackward0>))"
      ]
     },
     "execution_count": 107,
     "metadata": {},
     "output_type": "execute_result"
    }
   ],
   "source": [
    "feature_maps[1][1]"
   ]
  },
  {
   "cell_type": "code",
   "execution_count": null,
   "metadata": {},
   "outputs": [
    {
     "data": {
      "text/plain": [
       "torch.Size([8, 16, 128, 4])"
      ]
     },
     "execution_count": 108,
     "metadata": {},
     "output_type": "execute_result"
    }
   ],
   "source": [
    "feature_maps[2].shape"
   ]
  },
  {
   "cell_type": "code",
   "execution_count": null,
   "metadata": {},
   "outputs": [],
   "source": [
    "feature_maps.clear()"
   ]
  },
  {
   "cell_type": "code",
   "execution_count": null,
   "metadata": {},
   "outputs": [
    {
     "data": {
      "text/plain": [
       "[[1, 2, 3], [1, 2, 3], 4, 5, 6]"
      ]
     },
     "execution_count": 110,
     "metadata": {},
     "output_type": "execute_result"
    }
   ],
   "source": [
    "l = [[1,2,3],[1,2,3]]\n",
    "s = [4,5,6]\n",
    "\n",
    "l + s"
   ]
  }
 ],
 "metadata": {
  "kernelspec": {
   "display_name": "base",
   "language": "python",
   "name": "python3"
  },
  "language_info": {
   "codemirror_mode": {
    "name": "ipython",
    "version": 3
   },
   "file_extension": ".py",
   "mimetype": "text/x-python",
   "name": "python",
   "nbconvert_exporter": "python",
   "pygments_lexer": "ipython3",
   "version": "3.10.8"
  },
  "orig_nbformat": 4,
  "vscode": {
   "interpreter": {
    "hash": "d4d1e4263499bec80672ea0156c357c1ee493ec2b1c70f0acce89fc37c4a6abe"
   }
  }
 },
 "nbformat": 4,
 "nbformat_minor": 2
}
