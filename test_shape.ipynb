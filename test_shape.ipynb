{
 "cells": [
  {
   "cell_type": "code",
   "execution_count": 1,
   "metadata": {},
   "outputs": [],
   "source": [
    "import DCCRN\n",
    "import torch\n",
    "from asteroid.data import DNSDataset\n",
    "import os\n",
    "import torch.nn.functional as F\n",
    "import time\n",
    "import torch.nn as nn\n",
    "import shutil\n",
    "import numpy as np\n",
    "from framework import ABF, MultiResolutionSTFTLoss, SPKDLoss, build_review_kd, ReviewKD\n",
    "from asteroid.models import DCCRNet\n",
    "import torch\n",
    "import numpy as np\n",
    "from torch.utils.data import Dataset, DataLoader\n",
    "import config as cfg\n",
    "from tools_for_model import near_avg_index, max_index, min_index, Bar, cal_pesq, cal_stoi\n",
    "from dataloader import create_dataloader\n",
    "import inspect\n",
    "import os\n",
    "import feature_extraction\n",
    "from asteroid.models import DCCRNet_mini\n",
    "  \n",
    "#os.environ[\"CUDA_VISIBLE_DEVICES\"]=\"2\"\n"
   ]
  },
  {
   "cell_type": "code",
   "execution_count": 2,
   "metadata": {},
   "outputs": [],
   "source": [
    "model = DCCRN.DCCRN(rnn_units=cfg.rnn_units_student, masking_mode=cfg.masking_mode, use_clstm=cfg.use_clstm,kernel_num=cfg.kernel_num_student)\n",
    "#model = DCCRN.DCCRN(rnn_units=cfg.rnn_units, masking_mode=cfg.masking_mode, use_clstm=cfg.use_clstm,kernel_num=cfg.kernel_num)\n",
    "#data_set =  DNSDataset(\"/root/NTH_student/Speech_Enhancement_new/asteroid/egs/dns_challenge/baseline/data\")\n",
    "#model = DCCRNet.from_pretrained('JorisCos/DCCRNet_Libri1Mix_enhsingle_16k')\n",
    "#model = DCCRNet_mini(architecture='DCCRN-CL-mini')\n",
    "train_dataset =  DNSDataset(\"/root/NTH_student/train_loader\")\n",
    "train_loader = create_dataloader(mode='train',dataset=train_dataset)"
   ]
  },
  {
   "cell_type": "code",
   "execution_count": 3,
   "metadata": {},
   "outputs": [],
   "source": [
    "feature_maps_encoder = []\n",
    "feature_maps_decoder = []\n",
    "feature_maps_lstm = []"
   ]
  },
  {
   "cell_type": "code",
   "execution_count": 4,
   "metadata": {},
   "outputs": [],
   "source": [
    "def encoder_hook(module, input, output):\n",
    "    feature_maps_encoder.append(output)\n",
    "def decoder_hook(module, input, output):\n",
    "    feature_maps_decoder.append(output)\n",
    "def enhance_hook(module, input, output):\n",
    "    feature_maps_lstm.append(output)\n",
    "\n"
   ]
  },
  {
   "cell_type": "code",
   "execution_count": 5,
   "metadata": {},
   "outputs": [],
   "source": [
    "handler_encoder = [model.encoder[i].register_forward_hook(encoder_hook) for i in range(len(model.encoder))]\n",
    "handler_decoder = [model.decoder[i].register_forward_hook(decoder_hook) for i in range(len(model.decoder))]\n",
    "handler_lstm = model.enhance.register_forward_hook(enhance_hook)"
   ]
  },
  {
   "cell_type": "code",
   "execution_count": 6,
   "metadata": {},
   "outputs": [
    {
     "name": "stdout",
     "output_type": "stream",
     "text": [
      "   16/60000: [>.................................................] - ETA 193.2s"
     ]
    }
   ],
   "source": [
    "X,Y = 0,0\n",
    "i = 0\n",
    "for x,y,_ in Bar(train_loader):\n",
    "    if i == 1: break\n",
    "    X=x\n",
    "    Y=y\n",
    "    i += 1"
   ]
  },
  {
   "cell_type": "code",
   "execution_count": 7,
   "metadata": {},
   "outputs": [],
   "source": [
    "h = model(X)"
   ]
  },
  {
   "cell_type": "code",
   "execution_count": 8,
   "metadata": {},
   "outputs": [
    {
     "name": "stdout",
     "output_type": "stream",
     "text": [
      "torch.Size([8, 8, 128, 483])\n",
      "torch.Size([8, 16, 64, 483])\n",
      "torch.Size([8, 32, 32, 483])\n",
      "torch.Size([8, 64, 16, 483])\n",
      "torch.Size([8, 64, 8, 483])\n",
      "torch.Size([8, 64, 4, 483])\n",
      "\n",
      "\n",
      "torch.Size([8, 64, 8, 484])\n",
      "torch.Size([8, 64, 16, 484])\n",
      "torch.Size([8, 32, 32, 484])\n",
      "torch.Size([8, 16, 64, 484])\n",
      "torch.Size([8, 8, 128, 484])\n",
      "torch.Size([8, 2, 256, 484])\n",
      "\n",
      "\n",
      "torch.Size([483, 8, 128])\n",
      "torch.Size([483, 8, 128])\n"
     ]
    }
   ],
   "source": [
    "for i in range(len(feature_maps_encoder)):\n",
    "    print(feature_maps_encoder[i].shape)\n",
    "print(\"\\n\")\n",
    "for i in range(len(feature_maps_decoder)):\n",
    "    print(feature_maps_decoder[i].shape)\n",
    "print(\"\\n\")\n",
    "print(feature_maps_lstm[0][0].shape)\n",
    "print(feature_maps_lstm[0][1].shape)"
   ]
  },
  {
   "cell_type": "code",
   "execution_count": 9,
   "metadata": {},
   "outputs": [],
   "source": [
    "[handler_encoder[i].remove() for i in range(len(model.encoder)-1)]\n",
    "[handler_decoder[i].remove() for i in range(len(model.decoder))]\n",
    "handler_lstm.remove()"
   ]
  },
  {
   "attachments": {},
   "cell_type": "markdown",
   "metadata": {},
   "source": [
    "# DCCRN-CL"
   ]
  },
  {
   "cell_type": "code",
   "execution_count": 10,
   "metadata": {},
   "outputs": [],
   "source": [
    "#model = DCCRNet.from_pretrained('JorisCos/DCCRNet_Libri1Mix_enhsingle_16k')\n",
    "model = DCCRNet_mini(architecture='DCCRN-CL-test')"
   ]
  },
  {
   "cell_type": "code",
   "execution_count": 11,
   "metadata": {},
   "outputs": [],
   "source": [
    "outputs_enc = []\n",
    "outputs_dec= []\n",
    "output_lstm = []\n",
    "\n",
    "def hook_enc(module, input, output):\n",
    "    outputs_enc.append(output.detach()) \n",
    "def hook_dec(module, input, output):\n",
    "    outputs_dec.append(output.detach())\n",
    "def hook_lstm(module, input, output):\n",
    "    output_lstm.append(output.detach())"
   ]
  },
  {
   "cell_type": "code",
   "execution_count": 12,
   "metadata": {},
   "outputs": [],
   "source": [
    "handler_encoder = [model.masker.encoders[i].register_forward_hook(hook_enc) for i in range(len(model.masker.encoders)-1)]\n",
    "handler_decoder = [model.masker.decoders[i].register_forward_hook(hook_dec) for i in range(len(model.masker.decoders))]\n",
    "handler_lstm = model.masker.encoders[-1].rnn.rnns[1].register_forward_hook(hook_lstm)"
   ]
  },
  {
   "cell_type": "code",
   "execution_count": 13,
   "metadata": {},
   "outputs": [],
   "source": [
    "h = model(X)"
   ]
  },
  {
   "cell_type": "code",
   "execution_count": 14,
   "metadata": {},
   "outputs": [
    {
     "name": "stdout",
     "output_type": "stream",
     "text": [
      "torch.Size([8, 4, 128, 476])\n",
      "torch.Size([8, 8, 64, 475])\n",
      "torch.Size([8, 16, 32, 474])\n",
      "torch.Size([8, 32, 16, 473])\n",
      "torch.Size([8, 32, 8, 472])\n",
      "torch.Size([8, 32, 4, 471])\n",
      "\n",
      "\n",
      "torch.Size([8, 32, 4, 471])\n",
      "torch.Size([8, 32, 8, 472])\n",
      "torch.Size([8, 32, 16, 473])\n",
      "torch.Size([8, 16, 32, 474])\n",
      "torch.Size([8, 8, 64, 475])\n",
      "torch.Size([8, 4, 128, 476])\n",
      "\n",
      "\n",
      "torch.Size([8, 471, 32])\n"
     ]
    }
   ],
   "source": [
    "for i in range(len(outputs_enc)):\n",
    "    print(outputs_enc[i].shape)\n",
    "print(\"\\n\")\n",
    "for i in range(len(outputs_dec)):\n",
    "    print(outputs_dec[i].shape)\n",
    "print(\"\\n\")\n",
    "print(output_lstm[0].shape)"
   ]
  },
  {
   "cell_type": "code",
   "execution_count": null,
   "metadata": {},
   "outputs": [],
   "source": []
  }
 ],
 "metadata": {
  "kernelspec": {
   "display_name": "base",
   "language": "python",
   "name": "python3"
  },
  "language_info": {
   "codemirror_mode": {
    "name": "ipython",
    "version": 3
   },
   "file_extension": ".py",
   "mimetype": "text/x-python",
   "name": "python",
   "nbconvert_exporter": "python",
   "pygments_lexer": "ipython3",
   "version": "3.10.8"
  },
  "orig_nbformat": 4
 },
 "nbformat": 4,
 "nbformat_minor": 2
}
